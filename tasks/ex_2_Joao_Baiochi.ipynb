{
 "nbformat": 4,
 "nbformat_minor": 0,
 "metadata": {
  "colab": {
   "provenance": []
  },
  "kernelspec": {
   "name": "python3",
   "display_name": "Python 3"
  },
  "language_info": {
   "name": "python"
  }
 },
 "cells": [
  {
   "cell_type": "markdown",
   "source": [
    "# SCC-ICMC-USP - 1o. semestre de 2024\n",
    "\n",
    "## SCC5871/MAI5025 - Exercício 2\n",
    "\n",
    "## Profa. Roseli A. F. Romero\n",
    "\n",
    "\n",
    "Nro do grupo: - \n",
    "\n",
    "Alunos:\n",
    "\n",
    "1.   João Francisco Baiochi (n.ºUSP 7547674)\n",
    "2.   \n",
    "\n",
    "---  \n",
    "\n",
    "Para esse exercício, vamos utilizar o dataset Iris. Ele descreve atributos sobre 3 tipos de flores.\n",
    "O objetivo é classificar qual o tipo de flor de acordo com os atributos disponíveis. Vamos trabalhar apenas com as duas primeiras classes para que\n",
    "o problema de classificação binária."
   ],
   "metadata": {
    "id": "IYJjTJn6VO9q"
   }
  },
  {
   "cell_type": "code",
   "source": [
    "from sklearn.datasets import load_iris\n",
    "import matplotlib.pyplot as plt\n",
    "import numpy as np\n",
    "\n",
    "iris = load_iris()\n",
    "# Nessa primeira parte, vamos trabalhar apenas com as duas primeiras features e as duas primeiras classes\n",
    "X = iris.data[:100, :4]\n",
    "y = iris.target[:100]"
   ],
   "metadata": {
    "id": "RCkrc7OCYsxn"
   },
   "execution_count": null,
   "outputs": []
  },
  {
   "cell_type": "markdown",
   "source": [
    "---\n",
    "\n",
    "### Questão 1.\n",
    "\n",
    "\n",
    "- a) Utilizando o sklearn, defina uma [MLP para classificação binária](https://scikit-learn.org/stable/modules/generated/sklearn.neural_network.MLPClassifier.html) com a seguinte configuração:\n",
    "    - função de ativação ReLU;\n",
    "    - duas camadas escondidads com 10 neurônios cada;\n",
    "    - taxa de aprendizado igual a 1e-2;\n",
    "    - utilizando o algoritmo de otimização de gradiente descendente estocástico;\n",
    "    - utilizando 10 iterações máximas (épocas);\n",
    "    - use random_state=1234\n",
    "\n",
    "\n",
    "- b) Treine a MLP definida no conjunto Iris simplificado definido na questçao anterior, e calcule a cross-entropy loss binária seguindo a definição a seguir."
   ],
   "metadata": {
    "id": "kBtKuWdgWJ3W"
   }
  },
  {
   "cell_type": "markdown",
   "source": [
    "---\n",
    "\n",
    "### Questão 2.\n",
    "\n",
    "Para avaliar os modelos que serão testados, implemente a função `evaluate_model()`. Essa função recebe um modelo de classificador genérico (`model`) e avalia sua acurácia utilizando **10-fold stratified cross-validation**, retornando a média das acurácias de cada fold. O parâmetro `X` indica os dados e `y` os labels.\n",
    "- Sugestão: há duas formas de implementar a validação cruzada: treinar manualmente os modelos nos [splits gerados](https://scikit-learn.org/stable/modules/generated/sklearn.model_selection.StratifiedKFold.html) ou utilizar a função [cross_val_score](https://scikit-learn.org/stable/modules/generated/sklearn.model_selection.cross_val_score.html) do sklearn. Atente-se ao cálculo da acurácia.\n",
    "\n",
    "- Para garantir uma melhor performance dos algoritmos, faça o preprocessamento desses dados através da classe `sklearn.preprocessing.StandardScaler`."
   ],
   "metadata": {
    "id": "7GQGz90SWaqd"
   }
  },
  {
   "cell_type": "markdown",
   "source": [
    "---\n",
    "\n",
    "### Questão 3.\n",
    "\n",
    "Agora para estruturar e organizar melhor nossos testes, vamos utilizar as estruturas de dicionário do Python. Por exemplo, se formos definir dois modelos de Multi-Layer Perceptron, podemos escrever:\n",
    "\n",
    "```\n",
    "experimentos = {\n",
    "    \"MLP camada escondida (5,)\": MLPClassifier(hidden_layer_sizes=(5,),\n",
    "    \"MLP camada escondida (5,5)\": MLPClassifier(hidden_layer_sizes=(5,5)        \n",
    "}\n",
    "```\n",
    "\n",
    "Isso pode ser feito pois o Python trata funções como funções de primeira classe. Isso é, funções podem ser tratadas como variáveis.\n",
    "\n",
    "Portanto, defina um dicionário de experimentos com ao menos 3 modelos de MLP (`sklearn.neural_network.MLPClassifier`). Para isso varie parâmetros como o número de camadas escondidas, função de ativação e número de neurônios.\n",
    "\n",
    "- Dica: Ver documentação em https://scikit-learn.org/stable/modules/generated/sklearn.neural_network.MLPClassifier.html\n",
    "- Utilize um número de iterações >= 50 para garantir convergência.\n",
    "- Experimente diferentes taxas de aprendizado e número máximo de iterações (épocas) de forma a garantir convergência no treino."
   ],
   "metadata": {
    "id": "0OAqBPC9W7Ul"
   }
  },
  {
   "cell_type": "markdown",
   "source": [
    "---\n",
    "\n",
    "### Questão 4.\n",
    "\n",
    "- a) Para cada modelo instanciado na Questão 3, utilize a função criada na questão 3 para calcular sua acurácia. Exiba o nome do modelo e sua acurácia.\n",
    "- b) Determine qual o melhor classificador dentre os especificados e justifique sua escolha."
   ],
   "metadata": {
    "id": "WF4OInsQXaGJ"
   }
  },
  {
   "cell_type": "code",
   "source": [],
   "metadata": {
    "id": "uXJF7LngVkjC"
   },
   "execution_count": null,
   "outputs": []
  }
 ]
}
